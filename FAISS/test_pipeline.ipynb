{
 "cells": [
  {
   "cell_type": "code",
   "execution_count": 2,
   "id": "70f27eb9-4091-46e8-b492-a5d5bfd01a9c",
   "metadata": {},
   "outputs": [],
   "source": [
    "from llama_index.embeddings.huggingface import HuggingFaceEmbedding\n",
    "from llama_index.core import SimpleDirectoryReader\n",
    "from llama_index.core import VectorStoreIndex\n",
    "from sentence_transformers import SentenceTransformer\n",
    "from llama_index.core.storage.docstore import SimpleDocumentStore\n",
    "\n",
    "from llama_index.core.ingestion import (\n",
    "    DocstoreStrategy,\n",
    "    IngestionPipeline,\n",
    "    IngestionCache,\n",
    ")\n",
    "from llama_index.core.node_parser import SentenceSplitter\n",
    "import logging\n",
    "import logging.config\n",
    "from llama_index.llms.groq import Groq\n",
    "from llama_index.core.schema import MetadataMode\n",
    "from llama_index.core.extractors import TitleExtractor, SummaryExtractor\n",
    "from llama_index.vector_stores.milvus import MilvusVectorStore\n",
    "# from llama_index.vector_stores import SimpleVectorStore\n",
    "from llama_index.core.storage.index_store import SimpleIndexStore\n",
    "from llama_index.core import VectorStoreIndex, StorageContext , load_index_from_storage , load_indices_from_storage\n",
    "import os \n",
    "from dotenv import load_dotenv\n",
    "from pymilvus import MilvusClient\n",
    "import pymilvus\n",
    "from llama_index.core import Settings\n",
    "import ingestion_pipeline_milvus as mlv \n",
    "from llama_index.core import SummaryIndex\n",
    "from llama_index.core.response.pprint_utils import pprint_response\n",
    "from llama_index.postprocessor.mixedbreadai_rerank import MixedbreadAIRerank"
   ]
  },
  {
   "cell_type": "code",
   "execution_count": null,
   "id": "6133adb2-3647-4506-8c71-052e54faded2",
   "metadata": {},
   "outputs": [],
   "source": [
    "embed_model = SentenceTransformer(\"BAAI/bge-large-en-v1.5\")\n",
    "\n",
    "print(\"Vector Store Done\")\n"
   ]
  },
  {
   "cell_type": "code",
   "execution_count": null,
   "id": "d35b2490-3d74-4543-afe7-52f061c98d65",
   "metadata": {},
   "outputs": [],
   "source": [
    "\n",
    "client = MilvusClient(\"milvus_demo.db\")\n",
    "client.has_collection(collection_name=\"llama\")"
   ]
  },
  {
   "cell_type": "code",
   "execution_count": null,
   "id": "2389679d-0c66-4bfe-818a-629de1e3400f",
   "metadata": {},
   "outputs": [],
   "source": [
    "query_embedding = embed_model.encode(\"What is Maxx?\")"
   ]
  },
  {
   "cell_type": "code",
   "execution_count": null,
   "id": "47e503e7-a56c-456e-b827-6e284f01a7bf",
   "metadata": {},
   "outputs": [],
   "source": [
    "vector_store = MilvusVectorStore(\n",
    "    uri = \"milvus_demo.db\" ,\n",
    "    collection_name = \"llama\",\n",
    "    dim=1024\n",
    ")"
   ]
  },
  {
   "cell_type": "code",
   "execution_count": null,
   "id": "a9201a18-c28a-44ad-ad9b-ea2c7aed9841",
   "metadata": {},
   "outputs": [],
   "source": [
    "client.list_indexes(\n",
    "    collection_name= \"llama\"\n",
    ")"
   ]
  },
  {
   "cell_type": "code",
   "execution_count": null,
   "id": "e0434465-6223-49b3-95f2-fe7514762bba",
   "metadata": {},
   "outputs": [],
   "source": [
    "collection = .index(index_name=\"embedding\")"
   ]
  },
  {
   "cell_type": "code",
   "execution_count": null,
   "id": "d6941f07-3dde-49ed-bdeb-0a219b97c663",
   "metadata": {},
   "outputs": [],
   "source": [
    "from sentence_transformers import SentenceTransformer\n",
    "embed_model = SentenceTransformer(\"BAAI/bge-large-en-v1.5\")\n",
    "\n",
    "myList = list(embed_model.encode(\"What is Maxx?\"))\n",
    "\n",
    "with open('embed.txt', 'w') as outfile:\n",
    "  outfile.write(', \\n'.join(str(round(i, 2)) for i in myList))"
   ]
  },
  {
   "cell_type": "code",
   "execution_count": null,
   "id": "906ae9a2-bbe1-4966-ae42-bebcdd53921e",
   "metadata": {},
   "outputs": [],
   "source": []
  },
  {
   "cell_type": "code",
   "execution_count": null,
   "id": "33c2fc16-2522-43a2-872f-01d855135a07",
   "metadata": {},
   "outputs": [],
   "source": []
  },
  {
   "cell_type": "code",
   "execution_count": null,
   "id": "7e182b7d-7047-4349-b55d-d01e43b00b01",
   "metadata": {},
   "outputs": [],
   "source": []
  },
  {
   "cell_type": "code",
   "execution_count": null,
   "id": "929b94c6-e28a-42f4-a065-391d79ba6361",
   "metadata": {},
   "outputs": [],
   "source": []
  },
  {
   "cell_type": "code",
   "execution_count": null,
   "id": "1b55f51a-e7a1-4be5-af10-480f41bd13d6",
   "metadata": {},
   "outputs": [],
   "source": []
  },
  {
   "cell_type": "code",
   "execution_count": null,
   "id": "192d3616-41e1-4f39-8f58-08240f9c20c3",
   "metadata": {},
   "outputs": [],
   "source": []
  },
  {
   "cell_type": "code",
   "execution_count": null,
   "id": "7df03cc4-91c7-40c6-bf0d-e848f0d0cfad",
   "metadata": {},
   "outputs": [],
   "source": []
  }
 ],
 "metadata": {
  "kernelspec": {
   "display_name": "ENV2",
   "language": "python",
   "name": "env2"
  },
  "language_info": {
   "codemirror_mode": {
    "name": "ipython",
    "version": 3
   },
   "file_extension": ".py",
   "mimetype": "text/x-python",
   "name": "python",
   "nbconvert_exporter": "python",
   "pygments_lexer": "ipython3",
   "version": "3.10.12"
  }
 },
 "nbformat": 4,
 "nbformat_minor": 5
}
