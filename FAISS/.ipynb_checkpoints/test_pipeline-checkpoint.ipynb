{
 "cells": [
  {
   "cell_type": "code",
   "execution_count": null,
   "id": "bdef424c-7135-4387-899b-7ea14f8d7fc0",
   "metadata": {},
   "outputs": [],
   "source": [
    "from  ingestion_pipeline_creator import run_pipeline , build_pipeline , load_model\n",
    "from llama_index.core import SimpleDirectoryReader\n",
    "import logging\n",
    "import logging.config"
   ]
  },
  {
   "cell_type": "code",
   "execution_count": null,
   "id": "deb3b4ec-994b-4399-ba4c-5337a9d2fb1c",
   "metadata": {},
   "outputs": [],
   "source": [
    "logging.basicConfig(filename=\"test.log\" , level=logging.DEBUG,\n",
    "                    format='%(asctime)s - %(levelname)s - %(message)s')\n",
    "\n",
    "logger = logging.getLogger('simpleExample')\n",
    "\n",
    "llm , embed_model = load_model()"
   ]
  },
  {
   "cell_type": "code",
   "execution_count": null,
   "id": "0b787946-bc5f-472d-8df4-25409036c1bf",
   "metadata": {
    "scrolled": true
   },
   "outputs": [],
   "source": [
    "query_engine , pipeline = build_pipeline(llm , embed_model)"
   ]
  },
  {
   "cell_type": "code",
   "execution_count": null,
   "id": "0c6e80a3-1e3b-4c9b-b10c-d442b653de40",
   "metadata": {},
   "outputs": [],
   "source": []
  },
  {
   "cell_type": "code",
   "execution_count": null,
   "id": "1580fb7c-304a-453d-91c0-88bd4dacda76",
   "metadata": {},
   "outputs": [],
   "source": []
  },
  {
   "cell_type": "code",
   "execution_count": null,
   "id": "3224b3ad-e2e1-4d89-82b1-096b94a9475a",
   "metadata": {},
   "outputs": [],
   "source": []
  },
  {
   "cell_type": "code",
   "execution_count": null,
   "id": "e6250e3d-bee2-48b8-9578-cb5abcf5a7df",
   "metadata": {},
   "outputs": [],
   "source": []
  },
  {
   "cell_type": "code",
   "execution_count": null,
   "id": "748dd313-8076-4b41-b7bb-32548b2fc2bb",
   "metadata": {},
   "outputs": [],
   "source": []
  },
  {
   "cell_type": "code",
   "execution_count": null,
   "id": "e71ec439-fd95-415a-af15-3d740c550dd4",
   "metadata": {},
   "outputs": [],
   "source": []
  },
  {
   "cell_type": "code",
   "execution_count": null,
   "id": "41fb7d92-6b6a-419b-ad35-06ab4abf4ded",
   "metadata": {},
   "outputs": [],
   "source": []
  },
  {
   "cell_type": "code",
   "execution_count": null,
   "id": "7a45e41f-e914-4e97-9e99-d3786df4677c",
   "metadata": {},
   "outputs": [],
   "source": []
  },
  {
   "cell_type": "code",
   "execution_count": null,
   "id": "98bc652d-ac76-4c49-8fa9-eeb73f016a95",
   "metadata": {},
   "outputs": [],
   "source": []
  },
  {
   "cell_type": "code",
   "execution_count": null,
   "id": "ed7cd42b-f552-41da-ad29-cfd344050f91",
   "metadata": {},
   "outputs": [],
   "source": []
  },
  {
   "cell_type": "code",
   "execution_count": null,
   "id": "3d454eb1-0d7a-4fe4-9179-9732fad37390",
   "metadata": {},
   "outputs": [],
   "source": []
  },
  {
   "cell_type": "code",
   "execution_count": null,
   "id": "6bb6c66a-6477-4793-924b-c6a79e4c068a",
   "metadata": {},
   "outputs": [],
   "source": []
  },
  {
   "cell_type": "code",
   "execution_count": null,
   "id": "5966a75f-5cbf-4a28-8f26-321717d2aac1",
   "metadata": {},
   "outputs": [],
   "source": []
  },
  {
   "cell_type": "code",
   "execution_count": null,
   "id": "6d8cb42e-275c-4724-82b3-6ebc49b5dcb4",
   "metadata": {},
   "outputs": [],
   "source": []
  },
  {
   "cell_type": "code",
   "execution_count": null,
   "id": "c0f8091e-0850-4439-817d-3edf8f26fe98",
   "metadata": {},
   "outputs": [],
   "source": []
  },
  {
   "cell_type": "code",
   "execution_count": null,
   "id": "a08c17f7-008e-40a0-a808-e46a3129147d",
   "metadata": {},
   "outputs": [],
   "source": []
  },
  {
   "cell_type": "code",
   "execution_count": null,
   "id": "252e9d52-3c39-4098-8cfb-efc5e490ea6e",
   "metadata": {},
   "outputs": [],
   "source": []
  }
 ],
 "metadata": {
  "kernelspec": {
   "display_name": "VENV",
   "language": "python",
   "name": "venv"
  },
  "language_info": {
   "codemirror_mode": {
    "name": "ipython",
    "version": 3
   },
   "file_extension": ".py",
   "mimetype": "text/x-python",
   "name": "python",
   "nbconvert_exporter": "python",
   "pygments_lexer": "ipython3",
   "version": "3.9.0"
  }
 },
 "nbformat": 4,
 "nbformat_minor": 5
}
